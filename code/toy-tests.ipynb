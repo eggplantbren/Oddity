{
 "metadata": {
  "name": "",
  "signature": "sha256:d16631212d34a5a22db0a09e8ff56ab43ff9b5dd2342fed7d3a9b47c0800e45a"
 },
 "nbformat": 3,
 "nbformat_minor": 0,
 "worksheets": [
  {
   "cells": [
    {
     "cell_type": "code",
     "collapsed": false,
     "input": [
      "%matplotlib inline\n",
      "import numpy as np\n",
      "import numpy.random as rng\n",
      "import pylab as pl"
     ],
     "language": "python",
     "metadata": {},
     "outputs": [],
     "prompt_number": 53
    },
    {
     "cell_type": "code",
     "collapsed": false,
     "input": [
      "N_categories = 20"
     ],
     "language": "python",
     "metadata": {},
     "outputs": [],
     "prompt_number": 54
    },
    {
     "cell_type": "markdown",
     "metadata": {},
     "source": [
      "## Draw some proportion of the samples from each..."
     ]
    },
    {
     "cell_type": "code",
     "collapsed": false,
     "input": [
      "def make_sample(Cat_SRC, Cat_BGD, N_SRC, N_counts):\n",
      "    N_BGD = N_counts - N_SRC\n",
      "    counts_SRC = rng.multinomial(1, Categorical_SRC, N_SRC).sum(0)\n",
      "    counts_BGD = rng.multinomial(1, Categorical_BGD, N_BGD).sum(0)\n",
      "    return counts_SRC, counts_BGD"
     ],
     "language": "python",
     "metadata": {},
     "outputs": [],
     "prompt_number": 55
    },
    {
     "cell_type": "code",
     "collapsed": false,
     "input": [
      "def get_logL_patch(counts, alphas):\n",
      "    \"\"\"\n",
      "    Takes a vector of counts (across bins), and vector of alpha hyperparameters (ditto).\n",
      "    Returns the log likelihood of those counts under the Dirichlet-multinomial distribution with\n",
      "    those hyperparameters.\n",
      "    \"\"\"\n",
      "    # initialize internal (static) variables\n",
      "    try:\n",
      "        get_logL_patch.Cmax\n",
      "    except:\n",
      "        get_logL_patch.Cmax = 1\n",
      "        get_logL_patch.gammaln = np.array([np.Inf])\n",
      "    N, A = np.sum(counts), np.sum(alphas)\n",
      "    # calculate more lookup table if necessary\n",
      "    if N + A > get_logL_patch.Cmax:\n",
      "        print (\"get_logL_patch(): Calculating expensive lookup shit\")\n",
      "        get_logL_patch.Cmax = 8 * (N + A)\n",
      "        get_logL_patch.gammaln = np.append(np.array([np.Inf, 0.]), np.cumsum(np.log(np.arange(get_logL_patch.Cmax - 2) + 1)))\n",
      "    \n",
      "    # now the actual LF\n",
      "    logL = get_logL_patch.gammaln[A] - get_logL_patch.gammaln[N + A] + np.sum(get_logL_patch.gammaln[counts + alphas]) - np.sum(get_logL_patch.gammaln[alphas]) \n",
      "    logL = logL + get_logL_patch.gammaln[N] - np.sum(get_logL_patch.gammaln[counts])\n",
      "    return logL\n",
      "\n"
     ],
     "language": "python",
     "metadata": {},
     "outputs": [],
     "prompt_number": 56
    },
    {
     "cell_type": "code",
     "collapsed": false,
     "input": [
      "C=100\n",
      "true_alphas = C*np.ones(N_categories, dtype=int)\n",
      "Categorical = rng.dirichlet(true_alphas)\n",
      "#print(Categorical)\n",
      "counts = rng.multinomial(1, Categorical, 20000).sum(0)\n",
      "print(counts)\n",
      "\n",
      "Cs = np.arange(1, 400)\n",
      "scores = []\n",
      "for C in Cs:\n",
      "    test_alphas = C*np.ones(N_categories, dtype=int)\n",
      "    logL = get_logL_patch(counts, test_alphas)\n",
      "    scores.append(logL)\n",
      "pl.plot(Cs, scores)\n",
      "pl.draw()"
     ],
     "language": "python",
     "metadata": {},
     "outputs": [
      {
       "output_type": "stream",
       "stream": "stdout",
       "text": [
        "[ 969 1163 1157 1013 1073 1079  967 1031 1013  932  696 1093 1060  883  999\n",
        "  878  882 1093  963 1056]\n"
       ]
      },
      {
       "metadata": {},
       "output_type": "display_data",
       "png": "[encoded data removed]",
       "text": [
        "<matplotlib.figure.Figure at 0x2d537c8>"
       ]
      }
     ],
     "prompt_number": 80
    },
    {
     "cell_type": "code",
     "collapsed": false,
     "input": [],
     "language": "python",
     "metadata": {},
     "outputs": [],
     "prompt_number": 70
    },
    {
     "cell_type": "code",
     "collapsed": false,
     "input": [],
     "language": "python",
     "metadata": {},
     "outputs": []
    }
   ],
   "metadata": {}
  }
 ]
}