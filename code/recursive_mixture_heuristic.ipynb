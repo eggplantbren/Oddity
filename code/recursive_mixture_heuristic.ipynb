{
 "cells": [
  {
   "cell_type": "code",
   "execution_count": null,
   "metadata": {
    "collapsed": false
   },
   "outputs": [],
   "source": [
    "# THIS REQUIRES PYTHON 3 AND IPYTHON 3\n",
    "# here's a pip freeze of the necessary packages:\n",
    "\"\"\"\n",
    "astropy==1.0\n",
    "ipython==3.0.0\n",
    "matplotlib==1.4.3\n",
    "numpy==1.9.2\n",
    "\"\"\"\n",
    "\n",
    "# delete any old variables as we are, presumably, running the entire notebook.\n",
    "%reset -f\n",
    "\n",
    "import matplotlib.pyplot as plt\n",
    "import numpy as np\n",
    "import numpy.random as rng\n",
    "\n",
    "from astropy.io import fits\n",
    "from math import e as E\n",
    "\n",
    "from collections import namedtuple, deque\n",
    "from itertools import product\n",
    "from functools import partial as f\n",
    "from os.path import isdir\n",
    "\n",
    "%matplotlib inline"
   ]
  },
  {
   "cell_type": "markdown",
   "metadata": {},
   "source": [
    "## Conventions\n",
    "Our main data structure is a Box, which represents a bounding box somewhere in the image.\n",
    "\n",
    "Our coordinate system has its origin in the bottom-left of the image (with positive up and right), and all coordinates are specified as `(y,x)`. Our box is specified as `(y,x,h,w)`\n",
    "\n",
    "## Define our boxes."
   ]
  },
  {
   "cell_type": "code",
   "execution_count": null,
   "metadata": {
    "collapsed": false
   },
   "outputs": [],
   "source": [
    "class Box:\n",
    "    def __init__(self, y, x, h, w):\n",
    "        self.pos = (y, x)\n",
    "        self.size = (h, w)\n",
    "    \n",
    "    @property\n",
    "    def pos(self):\n",
    "        return self._pos\n",
    "    @pos.setter\n",
    "    def pos(self, value):\n",
    "        assert len(value) == 2\n",
    "        self._pos = np.array(value, dtype=int)\n",
    "        \n",
    "    @property\n",
    "    def size(self):\n",
    "        return self._size\n",
    "    @size.setter\n",
    "    def size(self, value):\n",
    "        assert len(value) == 2\n",
    "        assert all( value[i] > 0 for i in range(len(value)) )\n",
    "        self._size = np.array(value, dtype=int)\n",
    "\n",
    "    def __str__(self):\n",
    "        return '(pos={} sze={})'.format(self.pos , self.size)\n",
    "    \n",
    "    def __eq__(self, other):\n",
    "        return np.all(self.pos == other.pos) and np.all(self.size == other.size)\n",
    "    \n",
    "    def _get_integral_image_elt(self, pos, integral_image):\n",
    "        M, ny, nx = integral_image.shape\n",
    "        cpos = np.clip(pos, [0, 0], [ny, nx])\n",
    "\n",
    "        if np.any(pos == 0):\n",
    "            return np.zeros(M)\n",
    "        return integral_image[:, cpos[0]-1, cpos[1]-1]\n",
    "    \n",
    "    def counts(self, integral_image):\n",
    "        corners = (self.pos,\n",
    "                   self.pos + [self.size[0], 0],\n",
    "                   self.pos + [self.size[0], self.size[1]],\n",
    "                   self.pos + [0, self.size[1]])\n",
    "        \n",
    "        return (self._get_integral_image_elt(corners[0], integral_image)\n",
    "                - self._get_integral_image_elt(corners[1], integral_image)\n",
    "                + self._get_integral_image_elt(corners[2], integral_image)\n",
    "                - self._get_integral_image_elt(corners[3], integral_image))    "
   ]
  },
  {
   "cell_type": "markdown",
   "metadata": {},
   "source": [
    "## Define helper functions."
   ]
  },
  {
   "cell_type": "code",
   "execution_count": null,
   "metadata": {
    "collapsed": false
   },
   "outputs": [],
   "source": [
    "from matplotlib.patches import Rectangle\n",
    "SAVE_DIR = '../output'\n",
    "\n",
    "# represents loaded data. the truth field may be none.\n",
    "Data = namedtuple('Data', ['img','truth'])\n",
    "\n",
    "def as_boxes(*args):\n",
    "    \"\"\"\n",
    "    Turns some parameter triplets into boxes. Handles all of the following:\n",
    "      as_boxes( [(10,0,10,10), (20,50,10,10)] )\n",
    "      as_boxes( (10,0,10,10), (20,50,10,10) )\n",
    "      as_boxes(10,0,10,10)\n",
    "    \"\"\"\n",
    "    if type(args[0]) in [float, int]:\n",
    "        return [ Box(*args) ]\n",
    "    elif type(args[0]) == tuple:\n",
    "        return [ Box(*t) for t in args ]\n",
    "    elif type(args[0]) == list:\n",
    "        return [ Box(*t) for t in args[0] ]\n",
    "    \n",
    "def show (image, *args, file=None, figsize=(8,8), dpi=250, pad_inches=0):\n",
    "    \"\"\"\n",
    "    Show the given image. The varargs can be used to pass models (ie. lists of boxes) to draw on top\n",
    "    of the image. This can take two forms:\n",
    "    \n",
    "        1. pass in a single dict of the form { 'colour1':model1, 'colour2':model2 }\n",
    "        2. pass in up to 6 models as individual parameters, and they will be automatically coloured.\n",
    "    \"\"\"\n",
    "    \n",
    "    plt.figure(figsize=figsize, dpi=dpi)\n",
    "    COLOURS = ['blue', 'red', 'yellow', 'orange', 'purple', 'green']\n",
    "    \n",
    "    plt.gray()\n",
    "    plt.gca().get_xaxis().set_visible(False)\n",
    "    plt.gca().get_yaxis().set_visible(False)\n",
    "    plt.imshow(image, interpolation='nearest', origin='lower')\n",
    "    \n",
    "    if len(args) > 0 and type(args[0]) == list: # [ model1, model2, ...]\n",
    "        for colour, model in zip(COLOURS, args):\n",
    "            for box in model:\n",
    "                plt.gca().add_patch(Rectangle(tuple(reversed(box.pos)), box.size[1], box.size[0], alpha=0.9, facecolor='None', edgecolor=colour))\n",
    "    elif len(args) == 1 and type(args[0]) == dict: # { 'red':model1, 'blue':model2 }\n",
    "        for colour, model in args[0].items():\n",
    "            for box in model:\n",
    "                plt.gca().add_patch(Rectangle(tuple(reversed(box.pos)), box.size[1], box.size[0], alpha=0.9, facecolor='None', edgecolor=colour))\n",
    "            \n",
    "    if file != None:\n",
    "        if isdir(SAVE_DIR):\n",
    "            plt.savefig('{}/{}'.format(SAVE_DIR, file), bbox_inches='tight', pad_inches=pad_inches)\n",
    "        else:\n",
    "            print(\"output directory '{}' does not exist.\".format(SAVE_DIR))\n",
    "        \n",
    "def fake_data (sources:'[(y, x, h, w, brightness, variance)]'=[], size:'(y, x)'=(1000,1000)):\n",
    "    img = rng.uniform(size=size)\n",
    "    boxes = []\n",
    "    \n",
    "    # define each source by making a Box, and manipulating the image.\n",
    "    for (y, x, h, w, b, v) in sources:\n",
    "        boxes.append( Box(y, x, h, w) )\n",
    "        img[y:y+h, x:x+w] = np.clip((img[y:y+h, x:x+w] + b) * v, 0, 1)\n",
    "    \n",
    "    return Data(img, boxes)\n",
    "\n",
    "def real_data (filename='frame-r-000094-1-0131.fits.gz'):\n",
    "    hdulist = fits.open('../data/{}'.format(filename))\n",
    "    img = hdulist[0].data\n",
    "    hdulist.close()\n",
    "    return Data(img, None)"
   ]
  },
  {
   "cell_type": "markdown",
   "metadata": {},
   "source": [
    "## Integral image\n",
    "These functions turn a raw image into a discretised integral image suitable for finding histograms with. The main function of interest is `integral_image`, which takes an image and a number of bins and does all the work.\n",
    "\n",
    "#### Why not equal-occupancy?\n",
    "Good question. If we discretise our image using equal-occupancy bins, we lose any knowledge of the background distribution. For example, suppose the background strictly follows a uniform distribution, and the image contains a single very bright source. On binning, the top bins will be almost entirely filled with the source leaving little room for the background; this means the discrete version of the background will not follow a uniform distribution over the bins, as it lacks presence in the top ones.\n",
    "\n",
    "But we do want to maintain information on the distribution of the background, so instead we use equal-range bins. There is probably an improvement on this, for example using manually specified unequal-range bins that suit our images better."
   ]
  },
  {
   "cell_type": "code",
   "execution_count": null,
   "metadata": {
    "collapsed": false
   },
   "outputs": [],
   "source": [
    "def as_bins(img, M):\n",
    "    \"\"\" \n",
    "    Discretises an image into M equal-range bins, the output is an array of the same dimensions.\n",
    "    Assumes data is in [0,1]?\n",
    "    \"\"\"\n",
    "    \n",
    "    lo, hi = np.min(img), np.max(img)\n",
    "    f = np.vectorize(lambda x: (int)(M * (x-lo) / (hi-lo)) if x < hi else M-1, otypes=[np.int])\n",
    "    return f(img)\n",
    "\n",
    "def as_booleans(dimg, M):\n",
    "    \"\"\"\n",
    "    Takes a discrete image and a number of blocks, and returns a 3D array. The 2D array at index i contains\n",
    "    True's at each coordinate where the discrete image contained bin index i. There are M indices, of course.\n",
    "    \"\"\"\n",
    "    \n",
    "    ny, nx = dimg.shape\n",
    "    N = ny * nx\n",
    "    bimg = np.zeros((M, ny, nx),dtype=bool)\n",
    "    for m in range(M):\n",
    "        bimg[m, :, :] = (dimg == m)\n",
    "    return bimg\n",
    "\n",
    "def as_accumulation(bimg):\n",
    "    \"\"\"\n",
    "    Given a boolean image array, creates the integral image by summing up each 2D array from bottom-left to\n",
    "    top-right.\n",
    "    \"\"\"\n",
    "    \n",
    "    return np.cumsum(np.cumsum(bimg, axis=2), axis=1)\n",
    "\n",
    "def integral_image(img, M): \n",
    "    return as_accumulation(as_booleans(as_bins(img, M), M))"
   ]
  },
  {
   "cell_type": "markdown",
   "metadata": {},
   "source": [
    "## The algorithm\n"
   ]
  },
  {
   "cell_type": "code",
   "execution_count": null,
   "metadata": {
    "collapsed": false
   },
   "outputs": [],
   "source": [
    "def fast(iimg, background, min_area=1000, threshold=0.0000001):\n",
    "    _, h, w = iimg.shape\n",
    "    \n",
    "    def is_odd(box):\n",
    "        counts, area = box.counts(iimg), box.size[0] * box.size[1]\n",
    "                \n",
    "        scale = min(counts[i]/background[i] if background[i] > 0 else np.inf for i in range(len(counts)))\n",
    "        dist_diff = [counts[i] - scale*background[i] for i in range(len(counts))]\n",
    "        src_proportion = sum(dist_diff)/area\n",
    "        \n",
    "        return src_proportion > threshold\n",
    "\n",
    "    count = 0\n",
    "    inactive, result = [], []\n",
    "    active = deque([ Box(0,0,h,w) ])\n",
    "    #active.extend([Box(0,0,w/4,h/4), Box(w/4,0,w/2,h/4), Box(3*w/4,0,w/4,h/4),\n",
    "    #               Box(0,h/4,w/4,h/2), Box(w/4,h/4,w/2,h/2), Box(3*w/4,h/4,w/4,h/2),\n",
    "    #               Box(0,3*h/4,w/4,h/4), Box(w/4,3*h/4,w/2,h/4), Box(3*w/4,3*h/4,w/4,h/4)])\n",
    "    #TODO add third grid?\n",
    "    \n",
    "    while len(active) > 0:  \n",
    "        box = active.popleft()\n",
    "        \n",
    "        if box.size[0]*box.size[1] <= min_area:\n",
    "            result.append(box)\n",
    "            continue\n",
    "        \n",
    "        sub_boxes = [ Box(box.pos[0] + dy*box.size[0]/2, box.pos[1] + dx*box.size[1]/2, box.size[0]/2, box.size[1]/2)\n",
    "                      for dy in range(2) for dx in range(2) ]\n",
    "        sub_boxes = [ t for t in sub_boxes if is_odd(t) ]\n",
    "        \n",
    "        count += 4\n",
    "        if len(sub_boxes) == 0:\n",
    "            inactive.append(box)\n",
    "\n",
    "        active.extend(sub_boxes)\n",
    "\n",
    "    print('evaluations: {}'.format(count))\n",
    "    return result"
   ]
  },
  {
   "cell_type": "markdown",
   "metadata": {},
   "source": [
    "## Testing fake data"
   ]
  },
  {
   "cell_type": "code",
   "execution_count": null,
   "metadata": {
    "collapsed": false
   },
   "outputs": [],
   "source": [
    "BINS = 16\n",
    "background = [1/BINS for _ in range(BINS)]\n",
    "\n",
    "sources = [(100,200,50,400,-0.05,1), (300,700,200,200,-0.05,1), (800,600,100,200,0,0.9), (500,200,100,100,0,0.8)]\n",
    "\n",
    "img, truth = fake_data(sources)\n",
    "iimg = integral_image(img, BINS)\n",
    "\n",
    "result = fast(iimg, background, threshold=0.05)\n",
    "show(img, result, figsize=(10,10), dpi=500, file='fake_{}_bins.png'.format(BINS))"
   ]
  },
  {
   "cell_type": "markdown",
   "metadata": {},
   "source": [
    "## Testing real data"
   ]
  },
  {
   "cell_type": "code",
   "execution_count": null,
   "metadata": {
    "collapsed": false,
    "scrolled": true
   },
   "outputs": [],
   "source": [
    "BINS = 32\n",
    "\n",
    "# good for 32 bins\n",
    "#background = [0.7648, 0.1940, 0.03642, 0.0047] + [0 for _ in range(BINS-1)]\n",
    "background = [1] + [0]*(BINS - 1)\n",
    "background = [b/sum(background) for b in background]\n",
    "\n",
    "img, truth = real_data()\n",
    "iimg = integral_image(img, BINS)\n",
    "\n",
    "result = fast(iimg, background, threshold=0.000001)\n",
    "show(img, result, figsize=(20,20), dpi=500, file='real.png')"
   ]
  },
  {
   "cell_type": "code",
   "execution_count": null,
   "metadata": {
    "collapsed": true
   },
   "outputs": [],
   "source": []
  }
 ],
 "metadata": {
  "kernelspec": {
   "display_name": "Python 3",
   "language": "python",
   "name": "python3"
  },
  "language_info": {
   "codemirror_mode": {
    "name": "ipython",
    "version": 3
   },
   "file_extension": ".py",
   "mimetype": "text/x-python",
   "name": "python",
   "nbconvert_exporter": "python",
   "pygments_lexer": "ipython3",
   "version": "3.4.0"
  }
 },
 "nbformat": 4,
 "nbformat_minor": 0
}
